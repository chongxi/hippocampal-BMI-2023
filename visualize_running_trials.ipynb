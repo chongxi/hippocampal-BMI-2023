{
 "cells": [
  {
   "cell_type": "code",
   "execution_count": 1,
   "metadata": {},
   "outputs": [
    {
     "name": "stdout",
     "output_type": "stream",
     "text": [
      "Populating the interactive namespace from numpy and matplotlib\n"
     ]
    }
   ],
   "source": [
    "%pylab inline\n",
    "%config InlineBackend.figure_format = 'retina'\n",
    "from utils import *"
   ]
  },
  {
   "attachments": {},
   "cell_type": "markdown",
   "metadata": {},
   "source": [
    "This notebook focuses on the three Running tasks before Jumper tasks for all three rats. "
   ]
  },
  {
   "cell_type": "markdown",
   "metadata": {},
   "source": [
    "# visualize trials (goal and trajectory)"
   ]
  },
  {
   "cell_type": "code",
   "execution_count": 2,
   "metadata": {},
   "outputs": [],
   "source": [
    "rat1_preBMI = torch.load('./data/Running/jumper_after_run/wr112_0905_preJumper_dict')\n",
    "rat2_preBMI = torch.load('./data/Running/jumper_after_run/wr118_0821_preJumper_dict')\n",
    "rat3_preBMI = torch.load('./data/Running/jumper_after_run/wr121_0927_preJumper_dict')"
   ]
  },
  {
   "cell_type": "code",
   "execution_count": 3,
   "metadata": {},
   "outputs": [
    {
     "data": {
      "text/plain": [
       "dict_keys([0, 1, 2, 3, 4, 5, 6, 7, 8, 9, 10, 11, 12, 13, 14, 15, 16, 17, 18, 19, 20, 21, 22, 23, 24, 25, 26, 27, 28, 29, 30, 31, 32, 33, 34, 35, 36, 37, 38, 39, 40, 41, 42, 43, 44, 45, 46, 47, 48, 49, 50, 51, 52, 53, 54, 55, 56, 57, 58, 59, 60, 61, 62, 63, 64, 65, 66, 67, 68, 69, 70, 71, 72, 73, 74, 75, 76, 77, 78, 79, 80, 81, 82, 83, 84, 85, 86, 87, 88, 89, 90, 91, 92, 93, 94, 95, 96, 97, 98])"
      ]
     },
     "execution_count": 3,
     "metadata": {},
     "output_type": "execute_result"
    }
   ],
   "source": [
    "# each key is a trial number\n",
    "rat1_preBMI.keys()"
   ]
  },
  {
   "cell_type": "code",
   "execution_count": 4,
   "metadata": {},
   "outputs": [
    {
     "data": {
      "text/plain": [
       "dict_keys(['t', 'pos', 'goal'])"
      ]
     },
     "execution_count": 4,
     "metadata": {},
     "output_type": "execute_result"
    }
   ],
   "source": [
    "# for each trial, there are 3 variables: `t`, `pos` and `goal`\n",
    "rat1_preBMI[0].keys()"
   ]
  },
  {
   "cell_type": "code",
   "execution_count": 5,
   "metadata": {},
   "outputs": [
    {
     "data": {
      "application/vnd.jupyter.widget-view+json": {
       "model_id": "64ae3dceaabf4fd29697fc8dad01512c",
       "version_major": 2,
       "version_minor": 0
      },
      "text/plain": [
       "interactive(children=(Dropdown(description='data', options={'rat1_Running': {0: {'t': array([5. , 5.1, 5.2, 5.…"
      ]
     },
     "metadata": {},
     "output_type": "display_data"
    }
   ],
   "source": [
    "# select which animal we want to look at\n",
    "@interact(data={'rat1_Running': rat1_preBMI, 'rat2_Running': rat2_preBMI, 'rat3_Running': rat3_preBMI})\n",
    "def assign_preBMI(data):\n",
    "    global preBMI\n",
    "    global goal_radius\n",
    "    preBMI = data\n",
    "    # if rat3_preBMi, use goal_radius = 10\n",
    "    if data == rat3_preBMI:\n",
    "        goal_radius = 10\n",
    "    else:\n",
    "        goal_radius = 15"
   ]
  },
  {
   "cell_type": "code",
   "execution_count": 6,
   "metadata": {},
   "outputs": [
    {
     "data": {
      "application/vnd.jupyter.widget-view+json": {
       "model_id": "2b1f448ec1f54526a4da950ea8e68bb4",
       "version_major": 2,
       "version_minor": 0
      },
      "text/plain": [
       "interactive(children=(IntSlider(value=0, description='trial', max=97), Output()), _dom_classes=('widget-intera…"
      ]
     },
     "metadata": {},
     "output_type": "display_data"
    }
   ],
   "source": [
    "# select which trial we want to look at\n",
    "@interact(trial=(0, max(list(preBMI.keys()))-1))\n",
    "def plot_preBMI_trial(trial=0):\n",
    "    _pos = preBMI[trial]['pos']\n",
    "    _goal = preBMI[trial]['goal']\n",
    "    goal_center = (_goal[0], -_goal[1])\n",
    "    if _pos.shape[0] < 2:\n",
    "        print('no data')\n",
    "        return\n",
    "    plt.plot(_pos[:, 0], -_pos[:, 1], '-', color='gray')\n",
    "    plt.plot(_pos[-1, 0], -_pos[-1, 1], 'o', color='gray', markersize=15)\n",
    "    plot_goal(plt.gca(), goal_center, goal_radius=goal_radius)\n",
    "    plt.show()"
   ]
  },
  {
   "cell_type": "markdown",
   "metadata": {},
   "source": [
    "# visualize actual location and decoded location frame by frame"
   ]
  },
  {
   "cell_type": "markdown",
   "metadata": {},
   "source": [
    "### rat1"
   ]
  },
  {
   "cell_type": "code",
   "execution_count": 7,
   "metadata": {},
   "outputs": [
    {
     "data": {
      "text/plain": [
       "((18546, 2), (18546, 157))"
      ]
     },
     "execution_count": 7,
     "metadata": {},
     "output_type": "execute_result"
    }
   ],
   "source": [
    "rat1_pos = np.load('./data/Running/jumper_after_run/wr112_0905_RUN_Pos.npy')\n",
    "rat1_pv  = np.load('./data/Running/jumper_after_run/wr112_0905_RUN_PV.npy')\n",
    "rat1_pos.shape, rat1_pv.shape"
   ]
  },
  {
   "cell_type": "code",
   "execution_count": 8,
   "metadata": {},
   "outputs": [],
   "source": [
    "# rat1_pos = gaussian_filter1d(rat1_pos, 10, axis=0)"
   ]
  },
  {
   "cell_type": "code",
   "execution_count": 9,
   "metadata": {},
   "outputs": [],
   "source": [
    "# load DNN model, place unit id, and length of bins for each decoding frame\n",
    "rat1_model, rat1_neuron_idx, B_bins = load_pretrained_model(rat='rat1', task='Jumper')"
   ]
  },
  {
   "cell_type": "code",
   "execution_count": 10,
   "metadata": {},
   "outputs": [
    {
     "data": {
      "text/plain": [
       "(18497, 50, 157)"
      ]
     },
     "execution_count": 10,
     "metadata": {},
     "output_type": "execute_result"
    }
   ],
   "source": [
    "# convert pv (n_samples, n_neurons) to spv for decoding, spv: (n_samples, B_bins, n_neurons)\n",
    "rat1_spv = pv_2_spv(rat1_pv, B_bins=B_bins)\n",
    "rat1_spv.shape"
   ]
  },
  {
   "cell_type": "code",
   "execution_count": 11,
   "metadata": {},
   "outputs": [],
   "source": [
    "dec_pos = decode(rat1_model, rat1_spv, rat1_neuron_idx, cuda=True, mimic_realtime=False, smooth=True)"
   ]
  },
  {
   "cell_type": "code",
   "execution_count": 12,
   "metadata": {},
   "outputs": [
    {
     "data": {
      "text/plain": [
       "49"
      ]
     },
     "execution_count": 12,
     "metadata": {},
     "output_type": "execute_result"
    }
   ],
   "source": [
    "rat1_pos.shape[0] - dec_pos.shape[0]"
   ]
  },
  {
   "cell_type": "code",
   "execution_count": 13,
   "metadata": {},
   "outputs": [
    {
     "data": {
      "text/plain": [
       "0.8286902802506413"
      ]
     },
     "execution_count": 13,
     "metadata": {},
     "output_type": "execute_result"
    }
   ],
   "source": [
    "r2_score(rat1_pos[49:], dec_pos)"
   ]
  },
  {
   "cell_type": "code",
   "execution_count": 14,
   "metadata": {},
   "outputs": [],
   "source": [
    "trial_start = np.array([rat1_preBMI[i]['t'][0] for i in range(len(rat1_preBMI))])\n",
    "trial_end = np.array([rat1_preBMI[i]['t'][-1] for i in range(len(rat1_preBMI))])"
   ]
  },
  {
   "cell_type": "code",
   "execution_count": 15,
   "metadata": {},
   "outputs": [
    {
     "data": {
      "application/vnd.jupyter.widget-view+json": {
       "model_id": "b1fee7e9db9443b4b03518f26d06ac70",
       "version_major": 2,
       "version_minor": 0
      },
      "text/plain": [
       "interactive(children=(IntSlider(value=0, description='i', max=18545), Output()), _dom_classes=('widget-interac…"
      ]
     },
     "metadata": {},
     "output_type": "display_data"
    }
   ],
   "source": [
    "@interact(i=(0, len(rat1_pos)-1))\n",
    "def plot_traj(i=0):\n",
    "    fig, ax = plt.subplots(1, 2, figsize=(15, 5), gridspec_kw={'width_ratios': [5, 10]})\n",
    "    current_t = convert_frame_to_time(i)\n",
    "    ax[0].set_title(f'{current_t:.1f} s')\n",
    "    trial_no = time_2_trial_no(current_t, trial_start, trial_end)\n",
    "    if len(trial_no) == 1:\n",
    "        trial_no = trial_no[0]\n",
    "        _pos = rat1_preBMI[trial_no]['pos']\n",
    "        goal = rat1_preBMI[trial_no]['goal']\n",
    "        goal_center = (goal[0], -goal[1])\n",
    "        ax[0].plot(_pos[:, 0], -_pos[:, 1], '-', color='gray')\n",
    "        plot_goal(ax[0], goal_center, goal_radius=15)\n",
    "\n",
    "    ax[0].plot(rat1_pos[i-10:i+1, 0], -rat1_pos[i-10:i+1, 1], 'r', lw=2)\n",
    "    ax[0].plot(rat1_pos[i, 0], -rat1_pos[i, 1], 'ro', ms=15)\n",
    "\n",
    "    # plot decoded location and a line between current location and decoded location\n",
    "    ax[0].plot(dec_pos[i-10:i+1, 0], -dec_pos[i-10:i+1, 1], 'b', lw=2)\n",
    "    ax[0].plot(dec_pos[i, 0], -dec_pos[i, 1], 'bo', ms=15)\n",
    "    ax[0].plot([rat1_pos[i, 0], dec_pos[i, 0]], [-rat1_pos[i, 1], -dec_pos[i, 1]], 'k--')\n",
    "\n",
    "    ax[0].set_xlim([-50, 50])\n",
    "    ax[0].set_ylim([-50, 50])\n",
    "    ax[0].set_aspect('equal', adjustable='box')\n",
    "    ax[1].imshow(rat1_spv[i], cmap=neo)\n",
    "    \n",
    "    plt.show()"
   ]
  },
  {
   "cell_type": "markdown",
   "metadata": {},
   "source": [
    "### Rat 2"
   ]
  },
  {
   "cell_type": "code",
   "execution_count": 16,
   "metadata": {},
   "outputs": [
    {
     "data": {
      "text/plain": [
       "((14949, 2), (14949, 373))"
      ]
     },
     "execution_count": 16,
     "metadata": {},
     "output_type": "execute_result"
    }
   ],
   "source": [
    "rat2_pos = np.load('./data/Running/jumper_after_run/wr118_0821_RUN_Pos.npy')\n",
    "rat2_pv  = np.load('./data/Running/jumper_after_run/wr118_0821_RUN_PV.npy')\n",
    "rat2_pos.shape, rat2_pv.shape"
   ]
  },
  {
   "cell_type": "code",
   "execution_count": 17,
   "metadata": {},
   "outputs": [],
   "source": [
    "# rat2_pos = gaussian_filter1d(rat2_pos, 10, axis=0)"
   ]
  },
  {
   "cell_type": "code",
   "execution_count": 18,
   "metadata": {},
   "outputs": [],
   "source": [
    "# load DNN model, place unit id, and length of bins for each decoding frame\n",
    "rat2_model, rat2_neuron_idx, B_bins = load_pretrained_model(rat='rat2', task='Jumper')"
   ]
  },
  {
   "cell_type": "code",
   "execution_count": 19,
   "metadata": {},
   "outputs": [
    {
     "data": {
      "text/plain": [
       "(14900, 50, 373)"
      ]
     },
     "execution_count": 19,
     "metadata": {},
     "output_type": "execute_result"
    }
   ],
   "source": [
    "rat2_spv = pv_2_spv(rat2_pv, B_bins=50)\n",
    "rat2_spv.shape"
   ]
  },
  {
   "cell_type": "code",
   "execution_count": 20,
   "metadata": {},
   "outputs": [],
   "source": [
    "dec_pos = decode(rat2_model, rat2_spv, rat2_neuron_idx, cuda=True, mimic_realtime=False, smooth=True)"
   ]
  },
  {
   "cell_type": "code",
   "execution_count": 21,
   "metadata": {},
   "outputs": [
    {
     "data": {
      "text/plain": [
       "0.8592876939767133"
      ]
     },
     "execution_count": 21,
     "metadata": {},
     "output_type": "execute_result"
    }
   ],
   "source": [
    "r2_score(rat2_pos[49:], dec_pos)"
   ]
  },
  {
   "cell_type": "code",
   "execution_count": 22,
   "metadata": {},
   "outputs": [],
   "source": [
    "trial_start = np.array([rat2_preBMI[i]['t'][0] for i in range(len(rat2_preBMI))])\n",
    "trial_end = np.array([rat2_preBMI[i]['t'][-1] for i in range(len(rat2_preBMI))])"
   ]
  },
  {
   "cell_type": "code",
   "execution_count": 23,
   "metadata": {},
   "outputs": [
    {
     "data": {
      "application/vnd.jupyter.widget-view+json": {
       "model_id": "f531b8ecebf34ee5817d3bc8a10ef525",
       "version_major": 2,
       "version_minor": 0
      },
      "text/plain": [
       "interactive(children=(IntSlider(value=0, description='i', max=14948), Output()), _dom_classes=('widget-interac…"
      ]
     },
     "metadata": {},
     "output_type": "display_data"
    }
   ],
   "source": [
    "@interact(i=(0, len(rat2_pos)-1))\n",
    "def plot_traj(i=0):\n",
    "    fig, ax = plt.subplots(1, 2, figsize=(15, 5), gridspec_kw={'width_ratios': [5, 10]})\n",
    "    current_t = convert_frame_to_time(i, 50)\n",
    "    ax[0].set_title(f'{current_t:.1f} s')\n",
    "    trial_no = time_2_trial_no(current_t, trial_start, trial_end)\n",
    "    if len(trial_no) == 1:\n",
    "        trial_no = trial_no[0]\n",
    "        _pos = rat2_preBMI[trial_no]['pos']\n",
    "        goal = rat2_preBMI[trial_no]['goal']\n",
    "        goal_center = (goal[0], -goal[1])\n",
    "        ax[0].plot(_pos[:, 0], -_pos[:, 1], '-', color='gray')\n",
    "        plot_goal(ax[0], goal_center, goal_radius=15)\n",
    "\n",
    "    # plot decoded location and a line between current location and decoded location\n",
    "    ax[0].plot(dec_pos[i-10:i+1, 0], -dec_pos[i-10:i+1, 1], 'b', lw=2)\n",
    "    ax[0].plot(dec_pos[i, 0], -dec_pos[i, 1], 'bo', ms=15)\n",
    "    ax[0].plot([rat2_pos[i, 0], dec_pos[i, 0]], [-rat2_pos[i, 1], -dec_pos[i, 1]], 'k--')\n",
    "\n",
    "    ax[0].plot(rat2_pos[i-10:i, 0], -rat2_pos[i-10:i, 1], 'r', lw=2)\n",
    "    ax[0].plot(rat2_pos[i, 0], -rat2_pos[i, 1], 'ro', ms=15)\n",
    "    ax[0].set_xlim([-50, 50])\n",
    "    ax[0].set_ylim([-50, 50])\n",
    "    ax[0].set_aspect('equal', adjustable='box')\n",
    "    ax[1].imshow(rat2_spv[i], cmap=neo, vmin=0, vmax=5)\n",
    "    plt.show()\n"
   ]
  },
  {
   "cell_type": "markdown",
   "metadata": {},
   "source": [
    "### Rat 3"
   ]
  },
  {
   "cell_type": "code",
   "execution_count": 24,
   "metadata": {},
   "outputs": [],
   "source": [
    "rat3_pos = np.load('./data/Running/jumper_after_run/wr121_0927_RUN_Pos.npy')\n",
    "rat3_pv  = np.load('./data/Running/jumper_after_run/wr121_0927_RUN_PV.npy')"
   ]
  },
  {
   "cell_type": "code",
   "execution_count": 25,
   "metadata": {},
   "outputs": [],
   "source": [
    "# load DNN model, place unit id, and length of bins for each decoding frame\n",
    "rat3_model, rat3_neuron_idx, B_bins = load_pretrained_model(rat='rat3', task='Jumper')"
   ]
  },
  {
   "cell_type": "code",
   "execution_count": 26,
   "metadata": {},
   "outputs": [
    {
     "data": {
      "text/plain": [
       "(22133, 15, 233)"
      ]
     },
     "execution_count": 26,
     "metadata": {},
     "output_type": "execute_result"
    }
   ],
   "source": [
    "rat3_spv = pv_2_spv(rat3_pv, B_bins=B_bins)\n",
    "rat3_spv.shape"
   ]
  },
  {
   "cell_type": "code",
   "execution_count": 27,
   "metadata": {},
   "outputs": [],
   "source": [
    "dec_pos = decode(rat3_model, rat3_spv, rat3_neuron_idx, cuda=True, mimic_realtime=False, smooth=True)"
   ]
  },
  {
   "cell_type": "code",
   "execution_count": 28,
   "metadata": {},
   "outputs": [
    {
     "data": {
      "text/plain": [
       "14"
      ]
     },
     "execution_count": 28,
     "metadata": {},
     "output_type": "execute_result"
    }
   ],
   "source": [
    "rat3_pos.shape[0] - dec_pos.shape[0]"
   ]
  },
  {
   "cell_type": "code",
   "execution_count": 29,
   "metadata": {},
   "outputs": [
    {
     "data": {
      "text/plain": [
       "0.7068591327309683"
      ]
     },
     "execution_count": 29,
     "metadata": {},
     "output_type": "execute_result"
    }
   ],
   "source": [
    "r2_score(rat3_pos[14:], dec_pos)"
   ]
  },
  {
   "cell_type": "code",
   "execution_count": 30,
   "metadata": {},
   "outputs": [],
   "source": [
    "trial_start = np.array([rat3_preBMI[i]['t'][0] for i in range(len(rat3_preBMI))])\n",
    "trial_end = np.array([rat3_preBMI[i]['t'][-1] for i in range(len(rat3_preBMI))])"
   ]
  },
  {
   "cell_type": "code",
   "execution_count": 35,
   "metadata": {},
   "outputs": [
    {
     "data": {
      "application/vnd.jupyter.widget-view+json": {
       "model_id": "c5308523f29f4080a5d04712969e6af8",
       "version_major": 2,
       "version_minor": 0
      },
      "text/plain": [
       "interactive(children=(IntSlider(value=0, description='i', max=22146), Output()), _dom_classes=('widget-interac…"
      ]
     },
     "metadata": {},
     "output_type": "display_data"
    }
   ],
   "source": [
    "@interact(i=(0, len(rat3_pos)-1))\n",
    "def plot_traj(i=0):\n",
    "    fig, ax = plt.subplots(1, 2, figsize=(15, 5), gridspec_kw={'width_ratios': [5, 10]})\n",
    "    current_t = convert_frame_to_time(i, 50)\n",
    "    ax[0].set_title(f'{current_t:.1f} s')\n",
    "    trial_no = time_2_trial_no(current_t, trial_start, trial_end)\n",
    "    if len(trial_no) == 1:\n",
    "        trial_no = trial_no[0]\n",
    "        _pos = rat3_preBMI[trial_no]['pos']\n",
    "        goal = rat3_preBMI[trial_no]['goal']\n",
    "        goal_center = (goal[0], -goal[1])\n",
    "        ax[0].plot(_pos[:, 0], -_pos[:, 1], '-', color='gray')\n",
    "        plot_goal(ax[0], goal_center, goal_radius=10)\n",
    "\n",
    "    # plot decoded location and a line between current location and decoded location\n",
    "    ax[0].plot(dec_pos[i-10:i+1, 0], -dec_pos[i-10:i+1, 1], 'b', lw=2)\n",
    "    ax[0].plot(dec_pos[i, 0], -dec_pos[i, 1], 'bo', ms=15)\n",
    "    ax[0].plot([rat3_pos[i, 0], dec_pos[i, 0]], [-rat3_pos[i, 1], -dec_pos[i, 1]], 'k--')\n",
    "\n",
    "    ax[0].plot(rat3_pos[i-10:i, 0], -rat3_pos[i-10:i, 1], 'r', lw=2)\n",
    "    ax[0].plot(rat3_pos[i, 0], -rat3_pos[i, 1], 'ro', ms=15)\n",
    "    ax[0].set_xlim([-50, 50])\n",
    "    ax[0].set_ylim([-50, 50])\n",
    "    ax[0].set_aspect('equal', adjustable='box')\n",
    "    ax[1].imshow(rat3_spv[i], cmap=neo, vmin=0, vmax=5)\n",
    "    \n",
    "    plt.show()\n"
   ]
  },
  {
   "attachments": {},
   "cell_type": "markdown",
   "metadata": {},
   "source": [
    "# Visualize the goal-directedness"
   ]
  },
  {
   "cell_type": "code",
   "execution_count": 32,
   "metadata": {},
   "outputs": [],
   "source": [
    "def get_total_angles_preBMI(preBMI, subsample=20):\n",
    "    total_angles = []\n",
    "    for i in range(max(list(preBMI.keys()))): # iterate through all trials\n",
    "        _ani_pos = preBMI[i]['pos']\n",
    "        _goal_pos = preBMI[i]['goal']\n",
    "        _ani_pos_subsampled = subsample_20(_ani_pos, num_subsamples=20)\n",
    "        head_directions, angles = trajectory_2_angle(_ani_pos_subsampled, _goal_pos)\n",
    "        angles = angles % (2*np.pi)\n",
    "        total_angles.append(angles)\n",
    "    total_angles = np.hstack(total_angles)\n",
    "    return total_angles"
   ]
  },
  {
   "cell_type": "code",
   "execution_count": 33,
   "metadata": {},
   "outputs": [],
   "source": [
    "preBMI_angles1 = get_total_angles_preBMI(rat1_preBMI, subsample=20)\n",
    "preBMI_angles2 = get_total_angles_preBMI(rat2_preBMI, subsample=20)\n",
    "preBMI_angles3 = get_total_angles_preBMI(rat3_preBMI, subsample=20)"
   ]
  },
  {
   "cell_type": "code",
   "execution_count": 34,
   "metadata": {},
   "outputs": [
    {
     "data": {
      "image/png": "[encoded data removed]",
      "text/plain": [
       "<Figure size 576x216 with 3 Axes>"
      ]
     },
     "metadata": {
      "image/png": {
       "height": 165,
       "width": 507
      },
      "needs_background": "light"
     },
     "output_type": "display_data"
    }
   ],
   "source": [
    "# plot the histogram of angles (relative to the goal) for preBMI (blue) running tasks for three animals\n",
    "fig, ax = plt.subplots(1, 3, figsize=(8, 3), subplot_kw=dict(projection='polar'))\n",
    "\n",
    "ax[0].hist(preBMI_angles1, bins=60, density=True, color='blue', alpha=1, edgecolor='C9', histtype='step');\n",
    "ax[1].hist(preBMI_angles2, bins=60, density=True, color='blue', alpha=1, edgecolor='C9', histtype='step');\n",
    "ax[2].hist(preBMI_angles3, bins=60, density=True, color='blue', alpha=1, edgecolor='C9', histtype='step');\n",
    "\n",
    "for i in range(3):\n",
    "    ax[i].set_yticklabels([])\n",
    "    ax[i].set_rlabel_position(90)\n",
    "    ax[i].set_theta_zero_location(\"N\")\n",
    "    \n",
    "plt.subplots_adjust(wspace=0.5, hspace=0.3)"
   ]
  }
 ],
 "metadata": {
  "kernelspec": {
   "display_name": "base",
   "language": "python",
   "name": "python3"
  },
  "language_info": {
   "codemirror_mode": {
    "name": "ipython",
    "version": 3
   },
   "file_extension": ".py",
   "mimetype": "text/x-python",
   "name": "python",
   "nbconvert_exporter": "python",
   "pygments_lexer": "ipython3",
   "version": "3.8.5"
  },
  "vscode": {
   "interpreter": {
    "hash": "ff4f85d6e04298634172ac5d8264e7e9b556b95639fe52ebb9425c4d4cba0c9c"
   }
  }
 },
 "nbformat": 4,
 "nbformat_minor": 4
}
