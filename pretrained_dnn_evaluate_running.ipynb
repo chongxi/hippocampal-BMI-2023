{
 "cells": [
  {
   "cell_type": "code",
   "execution_count": 1,
   "metadata": {},
   "outputs": [
    {
     "name": "stdout",
     "output_type": "stream",
     "text": [
      "%pylab is deprecated, use %matplotlib inline and import the required libraries.\n",
      "Populating the interactive namespace from numpy and matplotlib\n"
     ]
    }
   ],
   "source": [
    "%pylab inline\n",
    "%config InlineBackend.figure_format = 'retina'\n",
    "from utils import *"
   ]
  },
  {
   "attachments": {},
   "cell_type": "markdown",
   "metadata": {},
   "source": [
    "#### The purpose of this notebook is to evaluate the performance of the pre-trained DNN decoder on the preJumper Running task."
   ]
  },
  {
   "cell_type": "markdown",
   "metadata": {},
   "source": [
    "## rat1\n",
    "load the model built for Jumper task, test using part of the Running task data "
   ]
  },
  {
   "cell_type": "code",
   "execution_count": 2,
   "metadata": {},
   "outputs": [],
   "source": [
    "model, neuron_idx, B_bins = load_pretrained_model(rat='rat1', task='Jumper')\n",
    "model.cuda();"
   ]
  },
  {
   "cell_type": "code",
   "execution_count": 3,
   "metadata": {},
   "outputs": [],
   "source": [
    "# load model that you trained offline and saved\n",
    "# model.load_state_dict(torch.load('./pretrained_model/wr112_0905_offline_model_4.pth'))"
   ]
  },
  {
   "cell_type": "code",
   "execution_count": 4,
   "metadata": {},
   "outputs": [],
   "source": [
    "# load test_PV (input) and test_pos (output)\n",
    "test_PV = np.load('./data/Running/jumper_after_run/wr112_0905_test_PV.npy')\n",
    "test_pos = np.load('./data/Running/jumper_after_run/wr112_0905_test_pos.npy')"
   ]
  },
  {
   "cell_type": "code",
   "execution_count": 5,
   "metadata": {},
   "outputs": [],
   "source": [
    "# decode and calculate r2 score\n",
    "test_dec_pos = model.predict(test_PV, smooth=True)\n",
    "r2_rat1 = r2_score(test_pos, test_dec_pos)"
   ]
  },
  {
   "cell_type": "code",
   "execution_count": 7,
   "metadata": {},
   "outputs": [
    {
     "name": "stdout",
     "output_type": "stream",
     "text": [
      "0.7763206880736365\n"
     ]
    }
   ],
   "source": [
    "print(r2_rat1)"
   ]
  },
  {
   "cell_type": "markdown",
   "metadata": {},
   "source": [
    "## Rat 2\n",
    "load the model built for Jumper task, test using part of the Running task data"
   ]
  },
  {
   "cell_type": "code",
   "execution_count": 10,
   "metadata": {},
   "outputs": [],
   "source": [
    "model, neuron_idx, B_bins = load_pretrained_model(rat='rat2', task='Jumper')\n",
    "model.cuda();"
   ]
  },
  {
   "cell_type": "code",
   "execution_count": 11,
   "metadata": {},
   "outputs": [],
   "source": [
    "# load test_PV (input) and test_pos (output)\n",
    "test_PV = np.load('./data/Running/jumper_after_run/wr118_0821_test_PV.npy')\n",
    "test_pos = np.load('./data/Running/jumper_after_run/wr118_0821_test_pos.npy')"
   ]
  },
  {
   "cell_type": "code",
   "execution_count": 12,
   "metadata": {},
   "outputs": [],
   "source": [
    "# decode and calculate r2 score\n",
    "test_dec_pos = model.predict(test_PV, smooth=True)\n",
    "r2_rat2 = r2_score(test_pos, test_dec_pos)"
   ]
  },
  {
   "cell_type": "markdown",
   "metadata": {},
   "source": [
    "## Rat 3\n",
    "load the model built for Jumper task, test using part of the Running task data"
   ]
  },
  {
   "cell_type": "code",
   "execution_count": 13,
   "metadata": {},
   "outputs": [],
   "source": [
    "model, neuron_idx, B_bins = load_pretrained_model(rat='rat3', task='Jumper')\n",
    "model.cuda();"
   ]
  },
  {
   "cell_type": "code",
   "execution_count": 14,
   "metadata": {},
   "outputs": [],
   "source": [
    "test_PV = np.load('./data/Running/jumper_after_run/wr121_0927_test_PV.npy')\n",
    "test_pos = np.load('./data/Running/jumper_after_run/wr121_0927_test_pos.npy')"
   ]
  },
  {
   "cell_type": "code",
   "execution_count": 15,
   "metadata": {},
   "outputs": [],
   "source": [
    "test_dec_pos = model.predict(test_PV, smooth=True)\n",
    "r2_rat3 = r2_score(test_pos, test_dec_pos)"
   ]
  },
  {
   "cell_type": "markdown",
   "metadata": {},
   "source": [
    "### plot $R^2$ score"
   ]
  },
  {
   "cell_type": "code",
   "execution_count": 16,
   "metadata": {},
   "outputs": [
    {
     "data": {
      "text/plain": [
       "(7.763206880736365e-01, 0.9021522429874862, 0.8145935911392542)"
      ]
     },
     "execution_count": 16,
     "metadata": {},
     "output_type": "execute_result"
    }
   ],
   "source": [
    "# as we used a different smoothing method, the score is slightly different from the paper (0.78-0.88)\n",
    "r2_rat1, r2_rat2, r2_rat3"
   ]
  },
  {
   "cell_type": "code",
   "execution_count": 17,
   "metadata": {},
   "outputs": [],
   "source": [
    "mean_r2 = np.mean([r2_rat1, r2_rat2, r2_rat3])"
   ]
  },
  {
   "cell_type": "code",
   "execution_count": 19,
   "metadata": {},
   "outputs": [
    {
     "data": {
      "image/png": "[encoded data removed]",
      "text/plain": [
       "<Figure size 108x144 with 1 Axes>"
      ]
     },
     "metadata": {
      "image/png": {
       "height": 140,
       "width": 144
      },
      "needs_background": "light"
     },
     "output_type": "display_data"
    }
   ],
   "source": [
    "fig, ax = plt.subplots(1,1,figsize=(1.5,2))\n",
    "plt.bar(np.arange(3), [r2_rat1, r2_rat2, r2_rat3], align='center', edgecolor='C1', lw=1.5, width=0.5,fill=False)\n",
    "plt.xticks(np.arange(3), ['Rat 1', 'Rat 2', 'Rat 3']);\n",
    "plt.ylim([0.51, 0.99]);\n",
    "plt.ylabel('$R^2$ score');\n",
    "sns.despine(ax=ax, right=True, top=True)\n",
    "plt.axhline(np.mean([r2_rat1, r2_rat2, r2_rat3]), color='C1', ls='--', lw=1);\n",
    "# put text of mean value on top of the line\n",
    "plt.text(2, np.mean([r2_rat1, r2_rat2, r2_rat3])+0.01, f'Mean $R^2$:{mean_r2:.2f}', ha='center', va='bottom', color='C1', fontsize=6);"
   ]
  }
 ],
 "metadata": {
  "kernelspec": {
   "display_name": "Python 3 (ipykernel)",
   "language": "python",
   "name": "python3"
  },
  "language_info": {
   "codemirror_mode": {
    "name": "ipython",
    "version": 3
   },
   "file_extension": ".py",
   "mimetype": "text/x-python",
   "name": "python",
   "nbconvert_exporter": "python",
   "pygments_lexer": "ipython3",
   "version": "3.8.5 (default, Sep  3 2020, 21:29:08) [MSC v.1916 64 bit (AMD64)]"
  },
  "vscode": {
   "interpreter": {
    "hash": "ff4f85d6e04298634172ac5d8264e7e9b556b95639fe52ebb9425c4d4cba0c9c"
   }
  }
 },
 "nbformat": 4,
 "nbformat_minor": 4
}
